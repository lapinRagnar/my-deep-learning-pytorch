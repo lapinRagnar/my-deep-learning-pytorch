{
  "nbformat": 4,
  "nbformat_minor": 0,
  "metadata": {
    "colab": {
      "provenance": [],
      "gpuType": "T4",
      "authorship_tag": "ABX9TyNIFymZbQTeb7BpG5Fqflf/",
      "include_colab_link": true
    },
    "kernelspec": {
      "name": "python3",
      "display_name": "Python 3"
    },
    "language_info": {
      "name": "python"
    },
    "accelerator": "GPU",
    "gpuClass": "standard"
  },
  "cells": [
    {
      "cell_type": "markdown",
      "metadata": {
        "id": "view-in-github",
        "colab_type": "text"
      },
      "source": [
        "<a href=\"https://colab.research.google.com/github/lapinRagnar/my-deep-learning-pytorch/blob/main/01_pytorch_workflow.ipynb\" target=\"_parent\"><img src=\"https://colab.research.google.com/assets/colab-badge.svg\" alt=\"Open In Colab\"/></a>"
      ]
    },
    {
      "cell_type": "markdown",
      "source": [
        "# PyTorch workflow\n",
        "\n",
        "Let's explore an example pytorch end-to-end workflow\n",
        "\n",
        "resources : \n",
        "* ground truth notebook : \n",
        "https://github.com/mrdbourke/pytorch-deep-learning/blob/main/docs/01_pytorch_workflow.ipynb\n",
        "* book version of the notebook :\n",
        "https://www.learnpytorch.io/01_pytorch_workflow/\n",
        " \n"
      ],
      "metadata": {
        "id": "MSDf8SnRbOfu"
      }
    },
    {
      "cell_type": "code",
      "execution_count": 1,
      "metadata": {
        "id": "xjkQl8O0aS28",
        "colab": {
          "base_uri": "https://localhost:8080/"
        },
        "outputId": "120c8bc7-5ce6-47b0-b7dc-f2ff38f8c7b7"
      },
      "outputs": [
        {
          "output_type": "execute_result",
          "data": {
            "text/plain": [
              "{1: 'data (prepare and load) ',\n",
              " 2: 'build model',\n",
              " 3: 'fit the model to data (training) ',\n",
              " 4: 'making predictions and evaluation a model (inference) ',\n",
              " 5: 'saving and loading a model',\n",
              " 6: 'putting it all together'}"
            ]
          },
          "metadata": {},
          "execution_count": 1
        }
      ],
      "source": [
        "what_were_covering = {\n",
        "    1: \"data (prepare and load) \",\n",
        "    2: \"build model\",\n",
        "    3: \"fit the model to data (training) \",\n",
        "    4: \"making predictions and evaluation a model (inference) \",\n",
        "    5: \"saving and loading a model\",\n",
        "    6: \"putting it all together\"    \n",
        "}\n",
        "\n",
        "what_were_covering"
      ]
    },
    {
      "cell_type": "code",
      "source": [
        "import torch\n",
        "from torch import nn\n",
        "import matplotlib.pyplot as plt\n",
        "\n",
        "# check pytorch version\n",
        "torch.__version__\n"
      ],
      "metadata": {
        "colab": {
          "base_uri": "https://localhost:8080/",
          "height": 36
        },
        "id": "HlwdxYdAfn-v",
        "outputId": "f54ac626-982f-4f8f-b63e-b91dd0cdb6f4"
      },
      "execution_count": 2,
      "outputs": [
        {
          "output_type": "execute_result",
          "data": {
            "text/plain": [
              "'2.0.0+cu118'"
            ],
            "application/vnd.google.colaboratory.intrinsic+json": {
              "type": "string"
            }
          },
          "metadata": {},
          "execution_count": 2
        }
      ]
    },
    {
      "cell_type": "markdown",
      "source": [
        "## 1. Data (preparing and loading)\n",
        "\n",
        "data can be alomost anything... in machine learning.\n",
        "\n",
        "* excel spreadsheet\n",
        "* images of any kind\n",
        "* video (youtube has a lot of data...)\n",
        "* audio like songs or podcast\n",
        "* DNA\n",
        "* text\n",
        "machine learning is a game of 2 parts:\n",
        "1. get a data into a numerical representation\n",
        "2. build a model to learn patterns in that numerical representation.\n",
        "\n",
        "To showcase this, let's create some *known* data using the linear regression formula.\n",
        "\n",
        "we'll use a linear regression formula to make a straight line with *known* *parameters*\n",
        "\n",
        "\n",
        "\n"
      ],
      "metadata": {
        "id": "QpeOC9jnjbD9"
      }
    },
    {
      "cell_type": "code",
      "source": [
        "# create a *known* parameters\n",
        "\n",
        "weight = 0.7\n",
        "bias = 0.3\n",
        "\n",
        "# create \n",
        "start = 0\n",
        "end = 1\n",
        "step = 0.02\n",
        "\n",
        "X = torch.arange(start, end, step).unsqueeze(dim=1)\n",
        "y = weight * X + bias\n",
        "\n",
        "X[:10], y[:10]"
      ],
      "metadata": {
        "colab": {
          "base_uri": "https://localhost:8080/"
        },
        "id": "_K_w_IALjQFp",
        "outputId": "8b36a5e0-d749-49a0-8cfd-d67a45bcfe5e"
      },
      "execution_count": 3,
      "outputs": [
        {
          "output_type": "execute_result",
          "data": {
            "text/plain": [
              "(tensor([[0.0000],\n",
              "         [0.0200],\n",
              "         [0.0400],\n",
              "         [0.0600],\n",
              "         [0.0800],\n",
              "         [0.1000],\n",
              "         [0.1200],\n",
              "         [0.1400],\n",
              "         [0.1600],\n",
              "         [0.1800]]),\n",
              " tensor([[0.3000],\n",
              "         [0.3140],\n",
              "         [0.3280],\n",
              "         [0.3420],\n",
              "         [0.3560],\n",
              "         [0.3700],\n",
              "         [0.3840],\n",
              "         [0.3980],\n",
              "         [0.4120],\n",
              "         [0.4260]]))"
            ]
          },
          "metadata": {},
          "execution_count": 3
        }
      ]
    },
    {
      "cell_type": "code",
      "source": [
        "len(X), len(y)"
      ],
      "metadata": {
        "colab": {
          "base_uri": "https://localhost:8080/"
        },
        "id": "XFjBxxqbnpls",
        "outputId": "62768d81-ec8b-471c-8824-76503dbab84a"
      },
      "execution_count": 4,
      "outputs": [
        {
          "output_type": "execute_result",
          "data": {
            "text/plain": [
              "(50, 50)"
            ]
          },
          "metadata": {},
          "execution_count": 4
        }
      ]
    },
    {
      "cell_type": "markdown",
      "source": [
        "### Splitting data into training and test sets (one of the most important concept in machine learning in general) \n",
        "\n",
        "Let's create a training and test set with our data"
      ],
      "metadata": {
        "id": "HdojGY6-tjwS"
      }
    },
    {
      "cell_type": "code",
      "source": [
        "# create a train/test split\n",
        "train_split = int(0.8 * len(X))\n",
        "\n",
        "X_train, y_train = X[:train_split], y[:train_split]\n",
        "\n",
        "X_test, y_test = X[train_split:], y[train_split:]\n",
        "\n",
        "len(X_train), len(y_train), len(X_test), len(y_test)\n"
      ],
      "metadata": {
        "colab": {
          "base_uri": "https://localhost:8080/"
        },
        "id": "7xSTO3GJnrIi",
        "outputId": "f8c5a550-655e-4e1d-b2ab-25b1ee9fb0e4"
      },
      "execution_count": 5,
      "outputs": [
        {
          "output_type": "execute_result",
          "data": {
            "text/plain": [
              "(40, 40, 10, 10)"
            ]
          },
          "metadata": {},
          "execution_count": 5
        }
      ]
    },
    {
      "cell_type": "code",
      "source": [
        "# visualise our data\n",
        "def plot_prediction(\n",
        "    train_data=X_train, \n",
        "    train_labels=y_train,\n",
        "    test_data=X_test,\n",
        "    test_labels =y_test,\n",
        "    predictions=None):\n",
        "  \"\"\"\n",
        "  plots training data, test data and compare prediction\n",
        "  \"\"\"\n",
        "  plt.figure(figsize=(10, 7))\n",
        "  \n",
        "  # plot training data in blue\n",
        "  plt.scatter(train_data, train_labels, c=\"b\", s=4, label=\"Training data\")\n",
        "\n",
        "  # plot test data in green\n",
        "  plt.scatter(test_data, test_labels, c=\"g\", s=4, label=\"Testing data\")\n",
        "\n",
        "  # are there predictions?\n",
        "  if predictions is not None:\n",
        "    # plot the predictions if they exist\n",
        "    plt.scatter(test_data, predictions, c=\"r\", s=4, label=\"Predictions\")\n",
        "\n",
        "    # show the legend\n",
        "    plt.legend(prop={\"size\": 14})\n",
        "\n"
      ],
      "metadata": {
        "id": "8mSYxMkaAJ3D"
      },
      "execution_count": 6,
      "outputs": []
    },
    {
      "cell_type": "code",
      "source": [
        "plot_prediction()"
      ],
      "metadata": {
        "colab": {
          "base_uri": "https://localhost:8080/",
          "height": 599
        },
        "id": "29KRlpBxFj7W",
        "outputId": "b928807c-ed10-4c1f-8d12-24b266b84e24"
      },
      "execution_count": 7,
      "outputs": [
        {
          "output_type": "display_data",
          "data": {
            "text/plain": [
              "<Figure size 1000x700 with 1 Axes>"
            ],
            "image/png": "[encoded data removed]"
          },
          "metadata": {}
        }
      ]
    },
    {
      "cell_type": "markdown",
      "source": [
        "## 2. Build model\n",
        "\n",
        "our first pytorch model!\n",
        "\n",
        "resources for OOP in python :\n",
        "https://realpython.com/python3-object-oriented-programming/\n",
        "\n",
        "what our model does :\n",
        "* start with random values (weights && bias)\n",
        "* look at training data and adjust the random values to better represent (or get closer to) the ideal values (the weights && bias values we used to create the data)  \n",
        "\n",
        "how does it do so?\n",
        "\n",
        "through the main algorithms :\n",
        "1. gradiant descent\n",
        "2. back propagation\n",
        "\n"
      ],
      "metadata": {
        "id": "BdkiecfzzKl_"
      }
    },
    {
      "cell_type": "code",
      "source": [
        "# Create linear regression model class\n",
        "import torch\n",
        "from torch import nn\n",
        "\n",
        "class LinearRegressionModel(nn.Module):                       ### almost everything in pytorch inherits from nn.Module\n",
        "  def __init__(self):\n",
        "    super().__init__()\n",
        "    self.weights = nn.Parameter(torch.randn(\n",
        "        1, \n",
        "        requires_grad=True,\n",
        "        dtype=torch.float\n",
        "        ))\n",
        "    self.bias = nn.Parameter(torch.randn(\n",
        "        1,\n",
        "        requires_grad=True,\n",
        "        dtype=torch.float\n",
        "    ))\n",
        "\n",
        "  # forward method to define the computation in the model\n",
        "  def forward(self, X: torch.Tensor) -> torch.Tensor:         # <- X is the input data\n",
        "    return self.weights * X + self.bias                       # this is the linear regression formula\n"
      ],
      "metadata": {
        "id": "Kmbpnz_DF582"
      },
      "execution_count": 8,
      "outputs": []
    },
    {
      "cell_type": "markdown",
      "source": [
        "### pytorch model building essentials\n",
        "\n",
        "* torch.nn - contains all of the buildings for computation graphs (a neural networks can be considered a computation graph)\n",
        "* torch.nn.Parameter - what parameters should our model try and learn, often a pytorch layer from torch.nn will set these for us\n",
        "* torch.nn.Module - the base class for all neural network modules, if you subclass it, you should override forward()\n",
        "* torch.optim - this is where the optimizers in pytorch live, they will help with gradient descent\n",
        "* def forward() - all nn.Module subclasses require you to override forward(), this method defines what happens in the forward computation\n",
        "\n",
        "pytorch cheatsheet :\n",
        "https://pytorch.org/tutorials/beginner/ptcheat.html\n"
      ],
      "metadata": {
        "id": "rRMO4CFA8J44"
      }
    },
    {
      "cell_type": "markdown",
      "source": [
        "### checking the contents of our pytorch model\n",
        "\n",
        "Now we've created the model, let's see what inside.\n",
        "So we can check our model parameters or what's inside our model using `.parameters().`\n"
      ],
      "metadata": {
        "id": "1XJ8nU8z_y_I"
      }
    },
    {
      "cell_type": "code",
      "source": [
        "# create a random seed\n",
        "torch.manual_seed(42)\n",
        "\n",
        "# create an instance of the model (this is a subclass of nn.Module)\n",
        "model_0 = LinearRegressionModel()\n",
        "\n",
        "# check the parameters\n",
        "list(model_0.parameters())"
      ],
      "metadata": {
        "colab": {
          "base_uri": "https://localhost:8080/"
        },
        "id": "zoOdR0D8zmB7",
        "outputId": "dbe9d92e-4c4f-477f-a88e-51134188d3a8"
      },
      "execution_count": 9,
      "outputs": [
        {
          "output_type": "execute_result",
          "data": {
            "text/plain": [
              "[Parameter containing:\n",
              " tensor([0.3367], requires_grad=True),\n",
              " Parameter containing:\n",
              " tensor([0.1288], requires_grad=True)]"
            ]
          },
          "metadata": {},
          "execution_count": 9
        }
      ]
    },
    {
      "cell_type": "code",
      "source": [
        "# list named parameters\n",
        "model_0.state_dict()"
      ],
      "metadata": {
        "colab": {
          "base_uri": "https://localhost:8080/"
        },
        "id": "HxpSSYT3BHld",
        "outputId": "be633743-ad5a-4ba9-8648-f91bf8e96461"
      },
      "execution_count": 10,
      "outputs": [
        {
          "output_type": "execute_result",
          "data": {
            "text/plain": [
              "OrderedDict([('weights', tensor([0.3367])), ('bias', tensor([0.1288]))])"
            ]
          },
          "metadata": {},
          "execution_count": 10
        }
      ]
    },
    {
      "cell_type": "markdown",
      "source": [
        "### making prediction using `torch.inference_mode()`\n",
        "\n",
        "to check our model's predictive power, let's see how well it predict `y_test` based on `X_test`\n",
        "\n",
        "when we pass data through our model, it's going to run it through the `forward()` method"
      ],
      "metadata": {
        "id": "Bm3q_6Ecfq8y"
      }
    },
    {
      "cell_type": "code",
      "source": [
        "# make prediction with model\n",
        "with torch.inference_mode():\n",
        "  y_pred = model_0(X_test)\n",
        "\n",
        "y_pred"
      ],
      "metadata": {
        "id": "Ymy2eIs-FJz0",
        "colab": {
          "base_uri": "https://localhost:8080/"
        },
        "outputId": "5b0b0093-8597-40be-c1d3-9c8c6e85446e"
      },
      "execution_count": 11,
      "outputs": [
        {
          "output_type": "execute_result",
          "data": {
            "text/plain": [
              "tensor([[0.3982],\n",
              "        [0.4049],\n",
              "        [0.4116],\n",
              "        [0.4184],\n",
              "        [0.4251],\n",
              "        [0.4318],\n",
              "        [0.4386],\n",
              "        [0.4453],\n",
              "        [0.4520],\n",
              "        [0.4588]])"
            ]
          },
          "metadata": {},
          "execution_count": 11
        }
      ]
    },
    {
      "cell_type": "code",
      "source": [
        "y_test"
      ],
      "metadata": {
        "colab": {
          "base_uri": "https://localhost:8080/"
        },
        "id": "Jxs12FsvhupO",
        "outputId": "aabffdc6-2983-478f-c3cb-7493d9afcee3"
      },
      "execution_count": 12,
      "outputs": [
        {
          "output_type": "execute_result",
          "data": {
            "text/plain": [
              "tensor([[0.8600],\n",
              "        [0.8740],\n",
              "        [0.8880],\n",
              "        [0.9020],\n",
              "        [0.9160],\n",
              "        [0.9300],\n",
              "        [0.9440],\n",
              "        [0.9580],\n",
              "        [0.9720],\n",
              "        [0.9860]])"
            ]
          },
          "metadata": {},
          "execution_count": 12
        }
      ]
    },
    {
      "cell_type": "code",
      "source": [
        "plot_prediction(predictions=y_pred)"
      ],
      "metadata": {
        "colab": {
          "base_uri": "https://localhost:8080/",
          "height": 599
        },
        "id": "qT598-4mh44N",
        "outputId": "43df75d0-2722-4a87-881b-4b4e4dcfe57e"
      },
      "execution_count": 13,
      "outputs": [
        {
          "output_type": "display_data",
          "data": {
            "text/plain": [
              "<Figure size 1000x700 with 1 Axes>"
            ],
            "image/png": "[encoded data removed]"
          },
          "metadata": {}
        }
      ]
    },
    {
      "cell_type": "markdown",
      "source": [
        "## 3. Train model\n",
        "\n",
        "the whole idea of training is for a model to move from some *unkonown* parameters (these may be the random) to some *known* parameters.\n",
        "\n",
        "In another words from a poor representation of the data to a better representation.\n",
        "\n",
        "One way to measure how poor or how wrong your model predictions are, is to use a loss fonction.\n",
        "\n",
        "* Note : loss function may also be called `cost function` or `criterion` in different areas. For our case, we're going to refer it as a loss function.\n",
        "\n",
        "Things we need to train :\n",
        "\n",
        "* **loss fuction :** A function to measure how wrong your model's predictions are to the ideal output, lower is better.\n",
        "\n",
        "* **Optimizer :** Takes into account the loss of the model and adjusts the model's parameters (e.g. weight && bias values in our case) to improve the loss function.\n",
        "\n",
        "And specifically for pytorch, we need :\n",
        "\n",
        "* A trainning loop\n",
        "* A testing loop \n",
        "\n"
      ],
      "metadata": {
        "id": "zwyV764RmgV3"
      }
    },
    {
      "cell_type": "code",
      "source": [
        "# check out our medel's parameters (a parameter is a value that the model sets itself)\n",
        "model_0.parameters()"
      ],
      "metadata": {
        "colab": {
          "base_uri": "https://localhost:8080/"
        },
        "id": "kMAmwf1Jn-c6",
        "outputId": "fd02f3ed-e8b3-49b0-e12d-34dd97d40d4a"
      },
      "execution_count": 14,
      "outputs": [
        {
          "output_type": "execute_result",
          "data": {
            "text/plain": [
              "<generator object Module.parameters at 0x7f55a06f4740>"
            ]
          },
          "metadata": {},
          "execution_count": 14
        }
      ]
    },
    {
      "cell_type": "code",
      "source": [
        "list(model_0.parameters())"
      ],
      "metadata": {
        "colab": {
          "base_uri": "https://localhost:8080/"
        },
        "id": "ajzeRUQEpoAB",
        "outputId": "6b4ca08d-a70d-477b-a2e7-b82c683b4d11"
      },
      "execution_count": 15,
      "outputs": [
        {
          "output_type": "execute_result",
          "data": {
            "text/plain": [
              "[Parameter containing:\n",
              " tensor([0.3367], requires_grad=True),\n",
              " Parameter containing:\n",
              " tensor([0.1288], requires_grad=True)]"
            ]
          },
          "metadata": {},
          "execution_count": 15
        }
      ]
    },
    {
      "cell_type": "code",
      "source": [
        "model_0.state_dict()"
      ],
      "metadata": {
        "colab": {
          "base_uri": "https://localhost:8080/"
        },
        "id": "w13l6AaApwSk",
        "outputId": "ff24d2ed-b285-4802-a459-a7e2468aae4c"
      },
      "execution_count": 16,
      "outputs": [
        {
          "output_type": "execute_result",
          "data": {
            "text/plain": [
              "OrderedDict([('weights', tensor([0.3367])), ('bias', tensor([0.1288]))])"
            ]
          },
          "metadata": {},
          "execution_count": 16
        }
      ]
    },
    {
      "cell_type": "code",
      "source": [
        "# setup a loss function\n",
        "loss_fn = nn.L1Loss()\n",
        "\n",
        "\n",
        "# setup an optimizer (stochastic gradient descent)\n",
        "optimizer = torch.optim.SGD(\n",
        "    params=model_0.parameters(),\n",
        "    lr=0.01,                                            # the most important hyperparameters\n",
        "    )\n"
      ],
      "metadata": {
        "id": "UtpCp7Mjp5D1"
      },
      "execution_count": 17,
      "outputs": []
    },
    {
      "cell_type": "markdown",
      "source": [
        "### building a training loop (and testing loop) in pytorch\n",
        "\n",
        "A couple of thing we need in training loop :\n",
        "0. loop through the data\n",
        "1. forward pass (this involves data moving through our model's `forward()` functions) to make predictions - also called forward propagation\n",
        "2. calculate the loss (compare forward pass predictions to ground truth labels)\n",
        "3. optimize zero grad\n",
        "4. loss backward - move back through the network to calculate the gradients of each of parameters of our model with respect of loss (**backpropagation**) \n",
        "5. optimizer step - use the optimizer to adjust our model's parameters to try and improve the loss (**gradient descent**)"
      ],
      "metadata": {
        "id": "H-UZxFpPMc_K"
      }
    },
    {
      "cell_type": "code",
      "source": [
        "# an epoch is one loop of the data (it's a hyperparameter because we've set it ourselves)\n",
        "epochs = 200\n",
        "\n",
        "# track different values\n",
        "epoch_count = []\n",
        "loss_values = []\n",
        "test_loss_values = []\n",
        "\n",
        "### training\n",
        "# 0. loop to the data\n",
        "for epoch in range(epochs):\n",
        "  # set the model to training mode\n",
        "  model_0.train()                       # train mode in pytorch sets all parameters that require gradient to require gradient\n",
        "\n",
        "  # 1. forward pass\n",
        "  y_pred = model_0(X_train)\n",
        "\n",
        "  # 2. calculate the loss\n",
        "  loss = loss_fn(y_pred, y_train)\n",
        "\n",
        "  # 3. optimizer zero grad\n",
        "  optimizer.zero_grad()\n",
        "\n",
        "  # 4. perform backpropagation on the loss with respect to the parameters of the model\n",
        "  loss.backward()\n",
        "\n",
        "  # 5. step the optimizer (perform the gradient descent)\n",
        "  optimizer.step()\n",
        "\n",
        "  # testing\n",
        "  model_0.eval()                        # turns off gradient tracking \n",
        "  \n",
        "  with torch.inference_mode():\n",
        "    # a. do the forward pass\n",
        "    test_pred = model_0(X_test)\n",
        "    # b. calculate the loss\n",
        "    test_loss = loss_fn(test_pred, y_test)\n",
        "  \n",
        "  # print out what's happing\n",
        "  if epoch % 10 == 0 :\n",
        "    epoch_count.append(epoch)\n",
        "    loss_values.append(loss)\n",
        "    test_loss_values.append(test_loss)\n",
        "\n",
        "    print(f\"epoch: {epoch} | loss : {loss} | test loss : {test_loss}\")\n",
        "\n",
        "\n",
        "\n",
        "\n",
        "  # print out model state_dict()\n",
        "  # print(model_0.state_dict())"
      ],
      "metadata": {
        "colab": {
          "base_uri": "https://localhost:8080/"
        },
        "id": "7sXZKJinMhdU",
        "outputId": "32e8bdb7-1509-4bd0-9033-83193f764294"
      },
      "execution_count": 18,
      "outputs": [
        {
          "output_type": "stream",
          "name": "stdout",
          "text": [
            "epoch: 0 | loss : 0.31288138031959534 | test loss : 0.48106518387794495\n",
            "epoch: 10 | loss : 0.1976713240146637 | test loss : 0.3463551998138428\n",
            "epoch: 20 | loss : 0.08908725529909134 | test loss : 0.21729660034179688\n",
            "epoch: 30 | loss : 0.053148526698350906 | test loss : 0.14464017748832703\n",
            "epoch: 40 | loss : 0.04543796554207802 | test loss : 0.11360953003168106\n",
            "epoch: 50 | loss : 0.04167863354086876 | test loss : 0.09919948130846024\n",
            "epoch: 60 | loss : 0.03818932920694351 | test loss : 0.08886633068323135\n",
            "epoch: 70 | loss : 0.03476089984178543 | test loss : 0.0805937647819519\n",
            "epoch: 80 | loss : 0.03132382780313492 | test loss : 0.07232122868299484\n",
            "epoch: 90 | loss : 0.02788739837706089 | test loss : 0.06473556160926819\n",
            "epoch: 100 | loss : 0.024458957836031914 | test loss : 0.05646304413676262\n",
            "epoch: 110 | loss : 0.021020207554101944 | test loss : 0.04819049686193466\n",
            "epoch: 120 | loss : 0.01758546568453312 | test loss : 0.04060482233762741\n",
            "epoch: 130 | loss : 0.014155393466353416 | test loss : 0.03233227878808975\n",
            "epoch: 140 | loss : 0.010716589167714119 | test loss : 0.024059748277068138\n",
            "epoch: 150 | loss : 0.0072835334576666355 | test loss : 0.016474086791276932\n",
            "epoch: 160 | loss : 0.0038517764769494534 | test loss : 0.008201557211577892\n",
            "epoch: 170 | loss : 0.008932482451200485 | test loss : 0.005023092031478882\n",
            "epoch: 180 | loss : 0.008932482451200485 | test loss : 0.005023092031478882\n",
            "epoch: 190 | loss : 0.008932482451200485 | test loss : 0.005023092031478882\n"
          ]
        }
      ]
    },
    {
      "cell_type": "code",
      "source": [
        "import numpy as np\n",
        "\n",
        "# plot the losses curves\n",
        "plt.plot(epoch_count, np.array(torch.tensor(loss_values).numpy()), label=\"train loss\")\n",
        "plt.plot(epoch_count, test_loss_values, label=\"test loss\")\n",
        "plt.title(\"training and test loss curves\")\n",
        "plt.ylabel(\"loss\")\n",
        "plt.xlabel(\"epochs\")\n",
        "plt.legend();"
      ],
      "metadata": {
        "colab": {
          "base_uri": "https://localhost:8080/",
          "height": 472
        },
        "id": "S52241x0qNL-",
        "outputId": "1935176e-6f38-4fac-ff1f-197c6788990a"
      },
      "execution_count": 19,
      "outputs": [
        {
          "output_type": "display_data",
          "data": {
            "text/plain": [
              "<Figure size 640x480 with 1 Axes>"
            ],
            "image/png": "[encoded data removed]"
          },
          "metadata": {}
        }
      ]
    },
    {
      "cell_type": "code",
      "source": [
        "# predictions\n",
        "with torch.inference_mode():\n",
        "  y_pred_new = model_0(X_test)"
      ],
      "metadata": {
        "id": "htJriKq9Z-d1"
      },
      "execution_count": 20,
      "outputs": []
    },
    {
      "cell_type": "code",
      "source": [
        "# the known parameters\n",
        "weight, bias"
      ],
      "metadata": {
        "colab": {
          "base_uri": "https://localhost:8080/"
        },
        "id": "-48hYjcwnFwO",
        "outputId": "af508a60-2f1b-4497-be25-bcd69b98df59"
      },
      "execution_count": 21,
      "outputs": [
        {
          "output_type": "execute_result",
          "data": {
            "text/plain": [
              "(0.7, 0.3)"
            ]
          },
          "metadata": {},
          "execution_count": 21
        }
      ]
    },
    {
      "cell_type": "code",
      "source": [
        "# the parameters of model_0\n",
        "model_0.state_dict()"
      ],
      "metadata": {
        "colab": {
          "base_uri": "https://localhost:8080/"
        },
        "id": "MuUJj9JlnVTe",
        "outputId": "acb1aaee-fd03-48a0-8010-9d6ac9c24930"
      },
      "execution_count": 22,
      "outputs": [
        {
          "output_type": "execute_result",
          "data": {
            "text/plain": [
              "OrderedDict([('weights', tensor([0.6990])), ('bias', tensor([0.3093]))])"
            ]
          },
          "metadata": {},
          "execution_count": 22
        }
      ]
    },
    {
      "cell_type": "code",
      "source": [
        "# visualisation\n",
        "plot_prediction(predictions=y_pred_new)"
      ],
      "metadata": {
        "colab": {
          "base_uri": "https://localhost:8080/",
          "height": 599
        },
        "id": "wtZTj0b8bTf-",
        "outputId": "577275d6-8292-4ead-90b8-a9d23fee59a0"
      },
      "execution_count": 23,
      "outputs": [
        {
          "output_type": "display_data",
          "data": {
            "text/plain": [
              "<Figure size 1000x700 with 1 Axes>"
            ],
            "image/png": "[encoded data removed]"
          },
          "metadata": {}
        }
      ]
    },
    {
      "cell_type": "markdown",
      "source": [
        "## 4. Saving a model in pytorch\n",
        "\n",
        "There are 3 main methods you should know about for saving and loading models in pytorch.\n",
        "\n",
        "1. `torch.save()` - allows you save a pytorch object in python pickle format\n",
        "2. `torch.load()` - load a pytorch object\n",
        "3. `torch.nn.Module.load_state_dict()` - this allows to load a model's saved state dictionary"
      ],
      "metadata": {
        "id": "l7mk5Dp-u16d"
      }
    },
    {
      "cell_type": "code",
      "source": [
        "# saving our pytorch model\n",
        "from pathlib import Path\n",
        "\n",
        "# 1. create model directory\n",
        "MODEL_PATH = Path(\"models\")\n",
        "MODEL_PATH.mkdir(parents=True, exist_ok=True)\n",
        "\n",
        "# 2. create model save path\n",
        "MODEL_NAME = \"01_pytorch_workflow_model_0.pth\"\n",
        "MODEL_SAVE_PATH = MODEL_PATH / MODEL_NAME\n",
        "\n",
        "# 3. save the model state dict\n",
        "print(f\"save the model to : {MODEL_SAVE_PATH} \")\n",
        "torch.save(\n",
        "    obj=model_0.state_dict(),\n",
        "    f=MODEL_SAVE_PATH\n",
        "    )\n"
      ],
      "metadata": {
        "colab": {
          "base_uri": "https://localhost:8080/"
        },
        "id": "_kZ4ECgcmlx-",
        "outputId": "1e7828c4-6a41-4c8d-fd0d-8beb8f211369"
      },
      "execution_count": 24,
      "outputs": [
        {
          "output_type": "stream",
          "name": "stdout",
          "text": [
            "save the model to : models/01_pytorch_workflow_model_0.pth \n"
          ]
        }
      ]
    },
    {
      "cell_type": "markdown",
      "source": [
        "## 5. Loading a pytorch model\n",
        "\n",
        "since we saved our model's `state_dict()` rather than the entire model, we'll create a new instance ofour model class and load the state `saved statedict()` into that."
      ],
      "metadata": {
        "id": "y3SsnK1R1nYA"
      }
    },
    {
      "cell_type": "code",
      "source": [
        "model_0.state_dict()"
      ],
      "metadata": {
        "colab": {
          "base_uri": "https://localhost:8080/"
        },
        "id": "1oUeYFjU4HHd",
        "outputId": "e6800b98-763d-455b-db40-ba8aa92b54c9"
      },
      "execution_count": 25,
      "outputs": [
        {
          "output_type": "execute_result",
          "data": {
            "text/plain": [
              "OrderedDict([('weights', tensor([0.6990])), ('bias', tensor([0.3093]))])"
            ]
          },
          "metadata": {},
          "execution_count": 25
        }
      ]
    },
    {
      "cell_type": "code",
      "source": [
        "# to load in a saved state_dict(), we have to instantiate a new instance of our model class\n",
        "loaded_model_0 = LinearRegressionModel()\n",
        "\n",
        "# load the saved state_dict of model_0 (this will update a new instance of updated parameters)\n",
        "loaded_model_0.load_state_dict(torch.load(f=MODEL_SAVE_PATH))"
      ],
      "metadata": {
        "colab": {
          "base_uri": "https://localhost:8080/"
        },
        "id": "cYG-M1aAzPdd",
        "outputId": "e3c22574-38c1-4ef0-e6a5-3de964255bbb"
      },
      "execution_count": 26,
      "outputs": [
        {
          "output_type": "execute_result",
          "data": {
            "text/plain": [
              "<All keys matched successfully>"
            ]
          },
          "metadata": {},
          "execution_count": 26
        }
      ]
    },
    {
      "cell_type": "code",
      "source": [
        "model_0.state_dict()"
      ],
      "metadata": {
        "colab": {
          "base_uri": "https://localhost:8080/"
        },
        "id": "-teEkTqj4OW7",
        "outputId": "60290c16-f8ea-4e7b-e266-9e956e0c8e5c"
      },
      "execution_count": 27,
      "outputs": [
        {
          "output_type": "execute_result",
          "data": {
            "text/plain": [
              "OrderedDict([('weights', tensor([0.6990])), ('bias', tensor([0.3093]))])"
            ]
          },
          "metadata": {},
          "execution_count": 27
        }
      ]
    },
    {
      "cell_type": "code",
      "source": [
        "# make a prediction with our loaded model\n",
        "loaded_model_0.eval()\n",
        "with torch.inference_mode():\n",
        "  loaded_model_preds = loaded_model_0(X_test)\n",
        "\n",
        "loaded_model_preds "
      ],
      "metadata": {
        "colab": {
          "base_uri": "https://localhost:8080/"
        },
        "id": "ILWocSZy4Pt-",
        "outputId": "b6a6723f-ae4a-4a65-bc51-0411a8d8bf78"
      },
      "execution_count": 28,
      "outputs": [
        {
          "output_type": "execute_result",
          "data": {
            "text/plain": [
              "tensor([[0.8685],\n",
              "        [0.8825],\n",
              "        [0.8965],\n",
              "        [0.9105],\n",
              "        [0.9245],\n",
              "        [0.9384],\n",
              "        [0.9524],\n",
              "        [0.9664],\n",
              "        [0.9804],\n",
              "        [0.9944]])"
            ]
          },
          "metadata": {},
          "execution_count": 28
        }
      ]
    },
    {
      "cell_type": "code",
      "source": [
        "# compare loaded model preds with original model preds\n",
        "# y_pred == loaded_model_preds"
      ],
      "metadata": {
        "id": "MGzJ7Nv65AOh"
      },
      "execution_count": 29,
      "outputs": []
    },
    {
      "cell_type": "markdown",
      "source": [
        "## 6. Put it all together\n",
        "let's go back through the steps above and see it in one place.\n"
      ],
      "metadata": {
        "id": "pMpXBsql8By2"
      }
    },
    {
      "cell_type": "code",
      "source": [
        "# import pytorch and matplotlib\n",
        "import torch\n",
        "from torch import nn\n",
        "import matplotlib.pyplot as plt\n",
        "\n",
        "# check pytorch version\n",
        "torch.__version__"
      ],
      "metadata": {
        "colab": {
          "base_uri": "https://localhost:8080/",
          "height": 36
        },
        "id": "mD88jM-28G9Q",
        "outputId": "9a1eb500-90a0-4bf8-9fc2-bb8094fe381b"
      },
      "execution_count": 30,
      "outputs": [
        {
          "output_type": "execute_result",
          "data": {
            "text/plain": [
              "'2.0.0+cu118'"
            ],
            "application/vnd.google.colaboratory.intrinsic+json": {
              "type": "string"
            }
          },
          "metadata": {},
          "execution_count": 30
        }
      ]
    },
    {
      "cell_type": "markdown",
      "source": [
        "create device-agnostic code.\n",
        "\n",
        "this means if we've got access to a GPU, our code will use it (for potentially faster computing).\n",
        "\n",
        "if no GPU is available, the code will default to using the CPU."
      ],
      "metadata": {
        "id": "dyG6t4CPAA8M"
      }
    },
    {
      "cell_type": "code",
      "source": [
        "# setup device-agnostic code\n",
        "device = \"cuda\" if torch.cuda.is_available() else \"cpu\"\n",
        "print(f\"using device : {device} \")\n"
      ],
      "metadata": {
        "colab": {
          "base_uri": "https://localhost:8080/"
        },
        "id": "ebImuN-T_v5g",
        "outputId": "56a1076b-3096-43d0-867c-26472a23b68b"
      },
      "execution_count": 31,
      "outputs": [
        {
          "output_type": "stream",
          "name": "stdout",
          "text": [
            "using device : cuda \n"
          ]
        }
      ]
    },
    {
      "cell_type": "code",
      "source": [
        "!nvidia-smi"
      ],
      "metadata": {
        "colab": {
          "base_uri": "https://localhost:8080/"
        },
        "id": "ggAmoZwaBYcN",
        "outputId": "5c097570-3534-4630-e33c-f7f1afa7ca21"
      },
      "execution_count": 32,
      "outputs": [
        {
          "output_type": "stream",
          "name": "stdout",
          "text": [
            "Sat May  6 20:17:00 2023       \n",
            "+-----------------------------------------------------------------------------+\n",
            "| NVIDIA-SMI 525.85.12    Driver Version: 525.85.12    CUDA Version: 12.0     |\n",
            "|-------------------------------+----------------------+----------------------+\n",
            "| GPU  Name        Persistence-M| Bus-Id        Disp.A | Volatile Uncorr. ECC |\n",
            "| Fan  Temp  Perf  Pwr:Usage/Cap|         Memory-Usage | GPU-Util  Compute M. |\n",
            "|                               |                      |               MIG M. |\n",
            "|===============================+======================+======================|\n",
            "|   0  Tesla T4            Off  | 00000000:00:04.0 Off |                    0 |\n",
            "| N/A   55C    P8    12W /  70W |      3MiB / 15360MiB |      0%      Default |\n",
            "|                               |                      |                  N/A |\n",
            "+-------------------------------+----------------------+----------------------+\n",
            "                                                                               \n",
            "+-----------------------------------------------------------------------------+\n",
            "| Processes:                                                                  |\n",
            "|  GPU   GI   CI        PID   Type   Process name                  GPU Memory |\n",
            "|        ID   ID                                                   Usage      |\n",
            "|=============================================================================|\n",
            "|  No running processes found                                                 |\n",
            "+-----------------------------------------------------------------------------+\n"
          ]
        }
      ]
    },
    {
      "cell_type": "markdown",
      "source": [
        "### 6.1. data"
      ],
      "metadata": {
        "id": "pAC1lYkmCx2E"
      }
    },
    {
      "cell_type": "code",
      "source": [
        "# create some data using the linear regression formula of y = weight * X + bias\n",
        "weight = 0.7\n",
        "bias = 0.3\n",
        "\n",
        "# create range values\n",
        "start= 0\n",
        "end = 1\n",
        "step = 0.02\n",
        "\n",
        "# create X and y (features and labels)\n",
        "X = torch.arange(start, end, step).unsqueeze(dim=1)\n",
        "y = weight * X + bias\n",
        "\n",
        "X[:10], y[:10]"
      ],
      "metadata": {
        "colab": {
          "base_uri": "https://localhost:8080/"
        },
        "id": "p0BYN4ntBdW4",
        "outputId": "c0dc1cbe-5814-4978-d541-c698ae90a9a0"
      },
      "execution_count": 33,
      "outputs": [
        {
          "output_type": "execute_result",
          "data": {
            "text/plain": [
              "(tensor([[0.0000],\n",
              "         [0.0200],\n",
              "         [0.0400],\n",
              "         [0.0600],\n",
              "         [0.0800],\n",
              "         [0.1000],\n",
              "         [0.1200],\n",
              "         [0.1400],\n",
              "         [0.1600],\n",
              "         [0.1800]]),\n",
              " tensor([[0.3000],\n",
              "         [0.3140],\n",
              "         [0.3280],\n",
              "         [0.3420],\n",
              "         [0.3560],\n",
              "         [0.3700],\n",
              "         [0.3840],\n",
              "         [0.3980],\n",
              "         [0.4120],\n",
              "         [0.4260]]))"
            ]
          },
          "metadata": {},
          "execution_count": 33
        }
      ]
    },
    {
      "cell_type": "code",
      "source": [
        "# split data\n",
        "train_split = int(0.8 * len(X))\n",
        "X_train, y_train = X[:train_split], y[:train_split]\n",
        "X_test, y_test = X[train_split:], y[train_split:]\n",
        "len(X_train), len(y_train), len(X_test), len(y_test)"
      ],
      "metadata": {
        "colab": {
          "base_uri": "https://localhost:8080/"
        },
        "id": "BUKGHwwWEi0I",
        "outputId": "070044c1-cf4c-4479-8a12-f26e50af1547"
      },
      "execution_count": 34,
      "outputs": [
        {
          "output_type": "execute_result",
          "data": {
            "text/plain": [
              "(40, 40, 10, 10)"
            ]
          },
          "metadata": {},
          "execution_count": 34
        }
      ]
    },
    {
      "cell_type": "code",
      "source": [
        "# plot the data\n",
        "plot_prediction(X_train, y_train, X_test, y_test)"
      ],
      "metadata": {
        "colab": {
          "base_uri": "https://localhost:8080/",
          "height": 599
        },
        "id": "Jt60uzgIFhWB",
        "outputId": "9b7fb1a7-e6b8-4b1a-a138-616a81f6e716"
      },
      "execution_count": 35,
      "outputs": [
        {
          "output_type": "display_data",
          "data": {
            "text/plain": [
              "<Figure size 1000x700 with 1 Axes>"
            ],
            "image/png": "[encoded data removed]"
          },
          "metadata": {}
        }
      ]
    },
    {
      "cell_type": "markdown",
      "source": [
        "### 6.2 building a pytorch linear model\n"
      ],
      "metadata": {
        "id": "vfBD5cyMKAUZ"
      }
    },
    {
      "cell_type": "code",
      "source": [
        "# create a linear model by subclassing nn.Module\n",
        "class LinearRegressionModelV2(nn.Module):\n",
        "  def __init__(self):\n",
        "    super().__init__()\n",
        "    \n",
        "    # use nn.Linear() for creating the model parameters / also called : linear transfom, probing layer, fully connected layer, dense layer\n",
        "    self.linear_layer = nn.Linear(\n",
        "      in_features=1,\n",
        "      out_features=1\n",
        "    )\n",
        "\n",
        "  def forward(self, X: torch.Tensor) -> torch.Tensor:\n",
        "    return self.linear_layer(X)\n",
        "\n",
        "# set the manual seed\n",
        "torch.manual_seed(42)\n",
        "\n",
        "model_1 = LinearRegressionModelV2()\n",
        "model_1, model_1.state_dict()\n"
      ],
      "metadata": {
        "colab": {
          "base_uri": "https://localhost:8080/"
        },
        "id": "zuD-xtoJGDiQ",
        "outputId": "594f05c8-614f-4966-d1cb-3526853cb29e"
      },
      "execution_count": 36,
      "outputs": [
        {
          "output_type": "execute_result",
          "data": {
            "text/plain": [
              "(LinearRegressionModelV2(\n",
              "   (linear_layer): Linear(in_features=1, out_features=1, bias=True)\n",
              " ),\n",
              " OrderedDict([('linear_layer.weight', tensor([[0.7645]])),\n",
              "              ('linear_layer.bias', tensor([0.8300]))]))"
            ]
          },
          "metadata": {},
          "execution_count": 36
        }
      ]
    },
    {
      "cell_type": "code",
      "source": [
        "# check the model current device\n",
        "next(model_1.parameters()).device "
      ],
      "metadata": {
        "colab": {
          "base_uri": "https://localhost:8080/"
        },
        "id": "AuShaQvMQiwH",
        "outputId": "c38a7d34-3ef6-4a5e-888f-3590bb3a9ec1"
      },
      "execution_count": 37,
      "outputs": [
        {
          "output_type": "execute_result",
          "data": {
            "text/plain": [
              "device(type='cpu')"
            ]
          },
          "metadata": {},
          "execution_count": 37
        }
      ]
    },
    {
      "cell_type": "code",
      "source": [
        "# set the model to use the target device\n",
        "model_1.to(device)\n",
        "next(model_1.parameters()).device"
      ],
      "metadata": {
        "colab": {
          "base_uri": "https://localhost:8080/"
        },
        "id": "IWh-g0zbNk9A",
        "outputId": "1ef8dd83-dc10-40ca-e5d2-daaef3627987"
      },
      "execution_count": 38,
      "outputs": [
        {
          "output_type": "execute_result",
          "data": {
            "text/plain": [
              "device(type='cuda', index=0)"
            ]
          },
          "metadata": {},
          "execution_count": 38
        }
      ]
    },
    {
      "cell_type": "markdown",
      "source": [
        "### 6.3 training \n",
        "For training we need :\n",
        "  * loss function\n",
        "  * optimizer\n",
        "  * training loop\n",
        "  * testing loop"
      ],
      "metadata": {
        "id": "5LKzsPu1RRPj"
      }
    },
    {
      "cell_type": "code",
      "source": [
        "model_1.state_dict()"
      ],
      "metadata": {
        "colab": {
          "base_uri": "https://localhost:8080/"
        },
        "id": "KJ-jy-vrSINo",
        "outputId": "c43c3eb3-930a-444d-e0aa-5f644ff63764"
      },
      "execution_count": 39,
      "outputs": [
        {
          "output_type": "execute_result",
          "data": {
            "text/plain": [
              "OrderedDict([('linear_layer.weight', tensor([[0.7645]], device='cuda:0')),\n",
              "             ('linear_layer.bias', tensor([0.8300], device='cuda:0'))])"
            ]
          },
          "metadata": {},
          "execution_count": 39
        }
      ]
    },
    {
      "cell_type": "code",
      "source": [
        "# setup loss function\n",
        "loss_fn = nn.L1Loss()       # same as MAE\n",
        "\n",
        "# setup our optimizer\n",
        "optimizer = torch.optim.SGD(params=model_1.parameters(), lr=0.01)\n",
        "\n",
        "# let's write a training loop\n",
        "torch.manual_seed(42)\n",
        "\n",
        "epochs = 200\n",
        "\n",
        "# put data on the target device (device agnostic code for data)\n",
        "X_train = X_train.to(device)\n",
        "y_train = y_train.to(device)\n",
        "X_test = X_test.to(device)\n",
        "y_test = y_test.to(device)\n",
        "\n",
        "for epoch in range(epochs):\n",
        "  model_1.train()\n",
        "\n",
        "  # 1. forward pass\n",
        "  y_pred = model_1(X_train)\n",
        "\n",
        "  # 2. calculate the loss\n",
        "  loss = loss_fn(y_pred, y_train)\n",
        "\n",
        "  # 3. optimizer zero grad\n",
        "  optimizer.zero_grad()\n",
        "\n",
        "  # 4. perform backpropagation\n",
        "  loss.backward()\n",
        "\n",
        "  # 5. optimizer step\n",
        "  optimizer.step()\n",
        "\n",
        "  ### testing\n",
        "  model_1.eval()\n",
        "  with torch.inference_mode():\n",
        "    test_pred = model_1(X_test)\n",
        "\n",
        "    test_loss = loss_fn(test_pred, y_test)\n",
        "  \n",
        "  # print out what's happining\n",
        "  if epoch % 10 == 0:\n",
        "    print(f\"epoch : {epoch} | loss : {loss} | test loss : {test_loss} \")\n"
      ],
      "metadata": {
        "colab": {
          "base_uri": "https://localhost:8080/"
        },
        "id": "JixrOF6VTs-y",
        "outputId": "6e60fe70-17d4-45e7-b401-5abfe740d9f7"
      },
      "execution_count": 40,
      "outputs": [
        {
          "output_type": "stream",
          "name": "stdout",
          "text": [
            "epoch : 0 | loss : 0.5551779866218567 | test loss : 0.5739762187004089 \n",
            "epoch : 10 | loss : 0.439968079328537 | test loss : 0.4392664134502411 \n",
            "epoch : 20 | loss : 0.3247582018375397 | test loss : 0.30455657839775085 \n",
            "epoch : 30 | loss : 0.20954833924770355 | test loss : 0.16984669864177704 \n",
            "epoch : 40 | loss : 0.09433845430612564 | test loss : 0.03513690456748009 \n",
            "epoch : 50 | loss : 0.023886388167738914 | test loss : 0.04784907028079033 \n",
            "epoch : 60 | loss : 0.019956795498728752 | test loss : 0.045803118497133255 \n",
            "epoch : 70 | loss : 0.016517987474799156 | test loss : 0.037530567497015 \n",
            "epoch : 80 | loss : 0.013089174404740334 | test loss : 0.02994490973651409 \n",
            "epoch : 90 | loss : 0.009653178043663502 | test loss : 0.02167237363755703 \n",
            "epoch : 100 | loss : 0.006215683650225401 | test loss : 0.014086711220443249 \n",
            "epoch : 110 | loss : 0.00278724217787385 | test loss : 0.005814164876937866 \n",
            "epoch : 120 | loss : 0.0012645035749301314 | test loss : 0.013801801018416882 \n",
            "epoch : 130 | loss : 0.0012645035749301314 | test loss : 0.013801801018416882 \n",
            "epoch : 140 | loss : 0.0012645035749301314 | test loss : 0.013801801018416882 \n",
            "epoch : 150 | loss : 0.0012645035749301314 | test loss : 0.013801801018416882 \n",
            "epoch : 160 | loss : 0.0012645035749301314 | test loss : 0.013801801018416882 \n",
            "epoch : 170 | loss : 0.0012645035749301314 | test loss : 0.013801801018416882 \n",
            "epoch : 180 | loss : 0.0012645035749301314 | test loss : 0.013801801018416882 \n",
            "epoch : 190 | loss : 0.0012645035749301314 | test loss : 0.013801801018416882 \n"
          ]
        }
      ]
    },
    {
      "cell_type": "code",
      "source": [
        "model_1.state_dict()"
      ],
      "metadata": {
        "colab": {
          "base_uri": "https://localhost:8080/"
        },
        "id": "ptNF3HM2ZmL7",
        "outputId": "e0083e40-79ac-41a3-f130-295a0e454469"
      },
      "execution_count": 41,
      "outputs": [
        {
          "output_type": "execute_result",
          "data": {
            "text/plain": [
              "OrderedDict([('linear_layer.weight', tensor([[0.6968]], device='cuda:0')),\n",
              "             ('linear_layer.bias', tensor([0.3025], device='cuda:0'))])"
            ]
          },
          "metadata": {},
          "execution_count": 41
        }
      ]
    },
    {
      "cell_type": "code",
      "source": [
        "weight, bias"
      ],
      "metadata": {
        "colab": {
          "base_uri": "https://localhost:8080/"
        },
        "id": "fdfEn_Tuty0V",
        "outputId": "15934094-664a-44cf-a21b-317df5e36326"
      },
      "execution_count": 42,
      "outputs": [
        {
          "output_type": "execute_result",
          "data": {
            "text/plain": [
              "(0.7, 0.3)"
            ]
          },
          "metadata": {},
          "execution_count": 42
        }
      ]
    },
    {
      "cell_type": "markdown",
      "source": [
        "### 6.4 making and evaluating predictions"
      ],
      "metadata": {
        "id": "BhweczC7t8I9"
      }
    },
    {
      "cell_type": "code",
      "source": [
        "# turn model into evaluation mode\n",
        "model_1.eval()\n",
        "\n",
        "# make predictions on the test data\n",
        "with torch.inference_mode():\n",
        "  y_pred = model_1(X_test)\n",
        "\n",
        "y_pred"
      ],
      "metadata": {
        "colab": {
          "base_uri": "https://localhost:8080/"
        },
        "id": "nszzV7r7uxAe",
        "outputId": "b829d196-796d-49ef-9af1-53968718856f"
      },
      "execution_count": 44,
      "outputs": [
        {
          "output_type": "execute_result",
          "data": {
            "text/plain": [
              "tensor([[0.8600],\n",
              "        [0.8739],\n",
              "        [0.8878],\n",
              "        [0.9018],\n",
              "        [0.9157],\n",
              "        [0.9296],\n",
              "        [0.9436],\n",
              "        [0.9575],\n",
              "        [0.9714],\n",
              "        [0.9854]], device='cuda:0')"
            ]
          },
          "metadata": {},
          "execution_count": 44
        }
      ]
    },
    {
      "cell_type": "code",
      "source": [
        "# check out our model prediction visually\n",
        "plot_prediction(predictions=y_pred.cpu())"
      ],
      "metadata": {
        "colab": {
          "base_uri": "https://localhost:8080/",
          "height": 599
        },
        "id": "ZddysT9YvaUd",
        "outputId": "aac35c36-a4ea-4134-915b-eeb96b536def"
      },
      "execution_count": 45,
      "outputs": [
        {
          "output_type": "display_data",
          "data": {
            "text/plain": [
              "<Figure size 1000x700 with 1 Axes>"
            ],
            "image/png": "[encoded data removed]"
          },
          "metadata": {}
        }
      ]
    },
    {
      "cell_type": "markdown",
      "source": [
        "### 6.5 saving && loading a trained model"
      ],
      "metadata": {
        "id": "FFgT_z2MwWjB"
      }
    },
    {
      "cell_type": "code",
      "source": [
        "from pathlib import Path\n",
        "\n",
        "# 1. create models directory\n",
        "MODEL_PATH = Path(\"models\")\n",
        "MODEL_PATH.mkdir(parents=True, exist_ok=True)\n",
        "\n",
        "# 2. create a model save path\n",
        "MODEL_NAME = \"01_pytorch_workflow_model_1.pth\"\n",
        "MODEL_SAVE_PATH = MODEL_PATH / MODEL_NAME\n",
        "\n",
        "# 3. save the model state dict\n",
        "print(f\"saving model to : {MODEL_SAVE_PATH} \")\n",
        "torch.save(obj=model_1.state_dict(), f=MODEL_SAVE_PATH)\n"
      ],
      "metadata": {
        "colab": {
          "base_uri": "https://localhost:8080/"
        },
        "id": "yBhJMmIZxF-v",
        "outputId": "df57d2cf-b1b1-47ed-eaa1-4489e4db065c"
      },
      "execution_count": 48,
      "outputs": [
        {
          "output_type": "stream",
          "name": "stdout",
          "text": [
            "saving model to : models/01_pytorch_workflow_model_1.pth \n"
          ]
        }
      ]
    },
    {
      "cell_type": "code",
      "source": [
        "# load a pytorch\n",
        "\n",
        "# create a new instance of linear regression model V2\n",
        "loaded_model_1 = LinearRegressionModelV2()\n",
        "\n",
        "# load the saved model_1 state_dict\n",
        "loaded_model_1.load_state_dict(torch.load(MODEL_SAVE_PATH))\n",
        "\n",
        "# put the loaded model to device\n",
        "loaded_model_1.to(device)\n",
        "\n"
      ],
      "metadata": {
        "colab": {
          "base_uri": "https://localhost:8080/"
        },
        "id": "qt1dfQSKyiIu",
        "outputId": "937588c9-bd13-48e1-805c-d1b3b78c53f8"
      },
      "execution_count": 49,
      "outputs": [
        {
          "output_type": "execute_result",
          "data": {
            "text/plain": [
              "LinearRegressionModelV2(\n",
              "  (linear_layer): Linear(in_features=1, out_features=1, bias=True)\n",
              ")"
            ]
          },
          "metadata": {},
          "execution_count": 49
        }
      ]
    },
    {
      "cell_type": "code",
      "source": [
        "next(loaded_model_1.parameters()).device"
      ],
      "metadata": {
        "colab": {
          "base_uri": "https://localhost:8080/"
        },
        "id": "NRt0WBKB1aj8",
        "outputId": "70bab292-d99f-4a66-dc99-258ec6fc247a"
      },
      "execution_count": 50,
      "outputs": [
        {
          "output_type": "execute_result",
          "data": {
            "text/plain": [
              "device(type='cuda', index=0)"
            ]
          },
          "metadata": {},
          "execution_count": 50
        }
      ]
    },
    {
      "cell_type": "code",
      "source": [
        "loaded_model_1.state_dict()"
      ],
      "metadata": {
        "colab": {
          "base_uri": "https://localhost:8080/"
        },
        "id": "SXykI06z1oKD",
        "outputId": "ef7ad9a4-c85d-487f-e2fb-cac1daf55955"
      },
      "execution_count": 51,
      "outputs": [
        {
          "output_type": "execute_result",
          "data": {
            "text/plain": [
              "OrderedDict([('linear_layer.weight', tensor([[0.6968]], device='cuda:0')),\n",
              "             ('linear_layer.bias', tensor([0.3025], device='cuda:0'))])"
            ]
          },
          "metadata": {},
          "execution_count": 51
        }
      ]
    },
    {
      "cell_type": "code",
      "source": [],
      "metadata": {
        "id": "ki0goL701w8l"
      },
      "execution_count": null,
      "outputs": []
    }
  ]
}